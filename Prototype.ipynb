{
 "cells": [
  {
   "cell_type": "code",
   "execution_count": 25,
   "metadata": {
    "collapsed": true
   },
   "outputs": [],
   "source": [
    "from kmer import kmer_featurization\n",
    "import random\n",
    "import warnings\n",
    "import math\n",
    "\n",
    "def pseudo(input, k, M, tolerance = 0.01, max_iterations = 1000):\n",
    "\n",
    "    N = len(input)\n",
    "    # Initialization: random assign each read to a cluster\n",
    "    random.seed(20221021)\n",
    "    # Q1: Do we have to ensure that every number appear at least once?\n",
    "    # For example, can we have no reads assigned to cluster 4 at first iteration?\n",
    "    # A1: Yes\n",
    "    # Q2: What we do if M > number of reads? Do we force M = number of reads then?\n",
    "    # A2: add a warning to the users\n",
    "    if M > N:\n",
    "        warnings.warn(\"Notice: M > number of reads!\")\n",
    "\n",
    "    Y = []\n",
    "    for i in range(N):\n",
    "        if i+1 > M:\n",
    "            Y.append(random.randint(1,M))\n",
    "        else:\n",
    "            Y.append(i+1)\n",
    "    random.shuffle(Y)\n",
    "\n",
    "    Y = [1,3,3,2,1]\n",
    "\n",
    "    q_im = []\n",
    "    # NOTE: for q_im, i index is i, while j index is the m^th cluster\n",
    "    for i in range(N):\n",
    "        l = []\n",
    "        for m in range(1, M+1):\n",
    "            if Y[i] == m:\n",
    "                l.append(1)\n",
    "            else:\n",
    "                l.append(0)\n",
    "        q_im.append(l)\n",
    "    print(f\"q_im: {q_im}\")\n",
    "\n",
    "    # TODO: wrap everything below with a while loop for each iteration\n",
    "    alpha = []\n",
    "    for i in range(1,M+1):\n",
    "        alpha.append(Y.count(i)/N)\n",
    "    print(f\"alpha: {alpha}\")\n",
    "    round = 0\n",
    "    new_q_im = []\n",
    "    for read in input:\n",
    "        if k > len(input):\n",
    "            k = len(input)\n",
    "        obj = kmer_featurization(k)\n",
    "        # counts of the words of the k-mers in the i^th read\n",
    "        # x_ij = count of word w_j in the current read\n",
    "        x_i = obj.obtain_kmer_feature_for_one_sequence(read, write_number_of_occurrences=True)\n",
    "        # list of posterior probability q_im: read x_i belong to species m\n",
    "        print(f\"X_i: {x_i}\") # Note: x_i should never change\n",
    "\n",
    "        l = 4**len(input[0]) # if length of a word is 3, then l = 64\n",
    "        p_x_i_lambda_m = [] # length of this array should be M\n",
    "        for m in range(M):\n",
    "            p_x_i_lambda_k = 1 # this value will be added to p_x_i_lambda_m\n",
    "            for j in range(l):\n",
    "                numerator = 0\n",
    "                denominator = 0\n",
    "                for i in range(N): # 1. calculate lambda_mj\n",
    "                    numerator += (q_im[i][m] * x_i[j])\n",
    "                    if round == 0: # if we are at our first iteration\n",
    "                        denominator += (q_im[i][m] * len(input[i]))\n",
    "                    else:\n",
    "                        denominator += (q_im[i][m])\n",
    "                lambda_mj = numerator / denominator\n",
    "                # print(f\"lambda_mj: {lambda_mj}\")\n",
    "                p_x_i_lambda_k = p_x_i_lambda_k * ((math.e**lambda_mj)*(lambda_mj**x_i[j])/(math.factorial(x_i[j])))\n",
    "            p_x_i_lambda_m.append(p_x_i_lambda_k)\n",
    "            # print(f\"read: {read}, p_x_i_lambda_m: {p_x_i_lambda_m}\")\n",
    "        new_q = []\n",
    "        for m_ in range(M):\n",
    "            numerator = alpha[m_] * p_x_i_lambda_m[m_]\n",
    "            denominator = 1\n",
    "            for k_ in range(M):\n",
    "                denominator *= (alpha[k_] * p_x_i_lambda_m[k_])\n",
    "            new_q.append(numerator/denominator)\n",
    "        new_q_im.append(new_q)\n",
    "        round += 1\n",
    "    print(f\"new_q_im: {new_q_im}\")"
   ]
  },
  {
   "cell_type": "code",
   "execution_count": 6,
   "outputs": [
    {
     "name": "stdout",
     "output_type": "stream",
     "text": [
      "[5. 0. 0. 0. 0. 0. 0. 0. 0. 0. 0. 0. 0. 0. 0. 0. 0. 0. 0. 0. 0. 0. 0. 0.\n",
      " 0. 0. 0. 0. 0. 0. 0. 0. 0. 0. 0. 0. 0. 0. 0. 0. 0. 0. 0. 0. 0. 0. 0. 0.\n",
      " 0. 0. 0. 0. 0. 0. 0. 0. 0. 0. 0. 0. 0. 0. 0. 0.]\n"
     ]
    }
   ],
   "source": [
    "from kmer import kmer_featurization  # import the module kmer_featurization from the kmer.py file\n",
    "\n",
    "seq_list = 'AAAAAAA'  # a list of DNA sequences\n",
    "\n",
    "k = 3  # choose the value for k\n",
    "obj = kmer_featurization(k)  # initialize a kmer_featurization object\n",
    "kmer_features = obj.obtain_kmer_feature_for_one_sequence(seq_list, write_number_of_occurrences=True)\n",
    "# If you would like the k-mer features to be the percentage of occurrences (ranging from 0 to 1) as stated above, then leave write_number_of_occurrences as False (the default). If you prefer the features to be the counts for each k-mer occurrence, then set it to True.\n",
    "print(kmer_features)"
   ],
   "metadata": {
    "collapsed": false,
    "pycharm": {
     "name": "#%%\n"
    }
   }
  },
  {
   "cell_type": "code",
   "execution_count": 23,
   "outputs": [
    {
     "name": "stdout",
     "output_type": "stream",
     "text": [
      "[7, 2, 6, 6, 3]\n",
      "[0.0, 0.2, 0.2, 0.0, 0.0, 0.4, 0.2, 0.0, 0.0, 0.0]\n"
     ]
    }
   ],
   "source": [
    "import random\n",
    "# random.seed(20221021)\n",
    "Y = []\n",
    "M = 10\n",
    "N = 5\n",
    "for i in range(N):\n",
    "    Y.append(random.randint(1,M))\n",
    "print(Y)\n",
    "alpha = []\n",
    "for i in range(1,M+1):\n",
    "    alpha.append(Y.count(i)/N)\n",
    "print(alpha)"
   ],
   "metadata": {
    "collapsed": false,
    "pycharm": {
     "name": "#%%\n"
    }
   }
  },
  {
   "cell_type": "code",
   "execution_count": 26,
   "outputs": [
    {
     "name": "stdout",
     "output_type": "stream",
     "text": [
      "q_im: [[1, 0, 0], [0, 0, 1], [0, 0, 1], [0, 1, 0], [1, 0, 0]]\n",
      "alpha: [0.4, 0.2, 0.4]\n",
      "X_i: [0. 0. 0. ... 0. 0. 0.]\n",
      "X_i: [0. 0. 0. ... 0. 0. 0.]\n",
      "X_i: [0. 0. 0. ... 0. 0. 0.]\n",
      "X_i: [0. 0. 0. ... 0. 0. 0.]\n",
      "X_i: [0. 0. 0. ... 0. 0. 0.]\n",
      "new_q_im: [[12.499999999999998, 6.249999999999999, 12.499999999999998], [12.499999999999998, 6.249999999999999, 12.499999999999998], [12.499999999999998, 6.249999999999999, 12.499999999999998], [12.499999999999998, 6.249999999999999, 12.499999999999998], [12.499999999999998, 6.249999999999999, 12.499999999999998]]\n"
     ]
    }
   ],
   "source": [
    "input  = [\"AAA\", \"CCC\", \"TTT\", \"GGG\", \"AAC\"]\n",
    "k = 5\n",
    "M = 3\n",
    "pseudo(input, k, M)"
   ],
   "metadata": {
    "collapsed": false,
    "pycharm": {
     "name": "#%%\n"
    }
   }
  },
  {
   "cell_type": "code",
   "execution_count": 4,
   "outputs": [
    {
     "data": {
      "text/plain": "[5, 8, 6, 5, 1, 3, 8, 7, 4, 2]"
     },
     "execution_count": 4,
     "metadata": {},
     "output_type": "execute_result"
    }
   ],
   "source": [
    "import random\n",
    "Y = []\n",
    "N=10\n",
    "M=8\n",
    "for i in range(N):\n",
    "    if i+1 > M:\n",
    "        Y.append(random.randint(1,M))\n",
    "    else:\n",
    "        Y.append(i+1)\n",
    "random.shuffle(Y)\n",
    "Y"
   ],
   "metadata": {
    "collapsed": false,
    "pycharm": {
     "name": "#%%\n"
    }
   }
  }
 ],
 "metadata": {
  "kernelspec": {
   "display_name": "Python 3",
   "language": "python",
   "name": "python3"
  },
  "language_info": {
   "codemirror_mode": {
    "name": "ipython",
    "version": 2
   },
   "file_extension": ".py",
   "mimetype": "text/x-python",
   "name": "python",
   "nbconvert_exporter": "python",
   "pygments_lexer": "ipython2",
   "version": "2.7.6"
  }
 },
 "nbformat": 4,
 "nbformat_minor": 0
}